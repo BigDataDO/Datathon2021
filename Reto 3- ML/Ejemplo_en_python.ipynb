{
 "cells": [
  {
   "cell_type": "markdown",
   "id": "4f663682",
   "metadata": {},
   "source": [
    "# Código de Introducción (NO MODIFICAR)"
   ]
  },
  {
   "cell_type": "code",
   "execution_count": 113,
   "id": "44cd1e8d",
   "metadata": {},
   "outputs": [],
   "source": [
    "import pandas as pd\n",
    "import numpy as np\n",
    "import seaborn as sns\n",
    "from sklearn.metrics import mean_absolute_error, make_scorer\n",
    "from sklearn.model_selection import KFold, cross_val_score"
   ]
  },
  {
   "cell_type": "code",
   "execution_count": 114,
   "id": "21f56d50",
   "metadata": {},
   "outputs": [],
   "source": [
    "# Esta es la función que evaluará sus resultados\n",
    "def evaluate(model, X, Y):\n",
    "    strat_k_fold = KFold(n_splits=3, shuffle=True, random_state=2020)\n",
    "    mae = make_scorer(mean_absolute_error)\n",
    "    return np.mean(cross_val_score(model, X, Y, scoring = mae, cv = strat_k_fold))"
   ]
  },
  {
   "cell_type": "code",
   "execution_count": 115,
   "id": "6121e568",
   "metadata": {},
   "outputs": [
    {
     "data": {
      "text/html": [
       "<div>\n",
       "<style scoped>\n",
       "    .dataframe tbody tr th:only-of-type {\n",
       "        vertical-align: middle;\n",
       "    }\n",
       "\n",
       "    .dataframe tbody tr th {\n",
       "        vertical-align: top;\n",
       "    }\n",
       "\n",
       "    .dataframe thead th {\n",
       "        text-align: right;\n",
       "    }\n",
       "</style>\n",
       "<table border=\"1\" class=\"dataframe\">\n",
       "  <thead>\n",
       "    <tr style=\"text-align: right;\">\n",
       "      <th></th>\n",
       "      <th>title</th>\n",
       "      <th>currency</th>\n",
       "      <th>properties</th>\n",
       "      <th>neighborhood</th>\n",
       "      <th>title-2</th>\n",
       "      <th>title-3</th>\n",
       "      <th>price_dop</th>\n",
       "    </tr>\n",
       "  </thead>\n",
       "  <tbody>\n",
       "    <tr>\n",
       "      <th>0</th>\n",
       "      <td>Disponible apartamento Juan dolió un reservaci...</td>\n",
       "      <td>DOP</td>\n",
       "      <td>{\"property_type\": \"Sin Amueblar\", \"rooms_quant...</td>\n",
       "      <td>Residecial brisa marina\\n</td>\n",
       "      <td>Boca Chica</td>\n",
       "      <td>Santo Domingo</td>\n",
       "      <td>1000.00</td>\n",
       "    </tr>\n",
       "    <tr>\n",
       "      <th>1</th>\n",
       "      <td>Hermosos Apartamentos en \"Los Jardines de Madr...</td>\n",
       "      <td>DOP</td>\n",
       "      <td>{\"property_type\": \"Sin Amueblar\", \"rooms_quant...</td>\n",
       "      <td>Madre Vieja Norte</td>\n",
       "      <td>San Cristóbal</td>\n",
       "      <td>San Cristóbal</td>\n",
       "      <td>3950000.00</td>\n",
       "    </tr>\n",
       "    <tr>\n",
       "      <th>2</th>\n",
       "      <td>Vendo apto amplio de 260 Metros con areas soci...</td>\n",
       "      <td>USD</td>\n",
       "      <td>{\"property_type\": \"Sin Amueblar\", \"rooms_quant...</td>\n",
       "      <td>El Vergel</td>\n",
       "      <td>Distrito Nacional</td>\n",
       "      <td>Santo Domingo</td>\n",
       "      <td>18774807.00</td>\n",
       "    </tr>\n",
       "    <tr>\n",
       "      <th>3</th>\n",
       "      <td>Excelente solar a pasos de Guavaberry</td>\n",
       "      <td>DOP</td>\n",
       "      <td>{\"terrain_usage_type\": \"Comercial\", \"terrain_s...</td>\n",
       "      <td>Otro</td>\n",
       "      <td>Guayacanes</td>\n",
       "      <td>San Pedro de Macorís</td>\n",
       "      <td>2400000.00</td>\n",
       "    </tr>\n",
       "    <tr>\n",
       "      <th>4</th>\n",
       "      <td>Moderno Apartamento de alquiler en Piantini</td>\n",
       "      <td>USD</td>\n",
       "      <td>{\"property_type\": \"Con linea blanca\", \"rooms_q...</td>\n",
       "      <td>Piantini</td>\n",
       "      <td>Distrito Nacional</td>\n",
       "      <td>Santo Domingo</td>\n",
       "      <td>103600.00</td>\n",
       "    </tr>\n",
       "    <tr>\n",
       "      <th>...</th>\n",
       "      <td>...</td>\n",
       "      <td>...</td>\n",
       "      <td>...</td>\n",
       "      <td>...</td>\n",
       "      <td>...</td>\n",
       "      <td>...</td>\n",
       "      <td>...</td>\n",
       "    </tr>\n",
       "    <tr>\n",
       "      <th>14861</th>\n",
       "      <td>Apartamento segundo piso mirador norte</td>\n",
       "      <td>USD</td>\n",
       "      <td>{\"property_type\": \"Sin Amueblar\", \"rooms_quant...</td>\n",
       "      <td>Mirador norte</td>\n",
       "      <td>Distrito Nacional</td>\n",
       "      <td>Santo Domingo</td>\n",
       "      <td>8967072.00</td>\n",
       "    </tr>\n",
       "    <tr>\n",
       "      <th>14862</th>\n",
       "      <td>Solar 1,760 mts Canabacoa santiago de los caba...</td>\n",
       "      <td>DOP</td>\n",
       "      <td>{\"terrain_usage_type\": \"Otros\", \"terrain_squar...</td>\n",
       "      <td>NaN</td>\n",
       "      <td>Santiago de los Caballeros</td>\n",
       "      <td>Santiago</td>\n",
       "      <td>10560000.00</td>\n",
       "    </tr>\n",
       "    <tr>\n",
       "      <th>14863</th>\n",
       "      <td>Impresionantes Apartamentos de un Lujo Acequib...</td>\n",
       "      <td>USD</td>\n",
       "      <td>{\"property_type\": \"Sin Amueblar\", \"rooms_quant...</td>\n",
       "      <td>NaN</td>\n",
       "      <td>Bávaro/Punta Cana</td>\n",
       "      <td>La Altagracia</td>\n",
       "      <td>12543748.40</td>\n",
       "    </tr>\n",
       "    <tr>\n",
       "      <th>14864</th>\n",
       "      <td>Apartamento amueblado Bella vista</td>\n",
       "      <td>USD</td>\n",
       "      <td>{\"property_type\": \"Amueblado\", \"rooms_quantity...</td>\n",
       "      <td>Bella vista</td>\n",
       "      <td>Distrito Nacional</td>\n",
       "      <td>Santo Domingo</td>\n",
       "      <td>8967072.00</td>\n",
       "    </tr>\n",
       "    <tr>\n",
       "      <th>14865</th>\n",
       "      <td>Venta de apartamento en la avenida independenc...</td>\n",
       "      <td>USD</td>\n",
       "      <td>{\"property_type\": \"Sin Amueblar\", \"rooms_quant...</td>\n",
       "      <td>NaN</td>\n",
       "      <td>Distrito Nacional</td>\n",
       "      <td>Santo Domingo</td>\n",
       "      <td>3995951.46</td>\n",
       "    </tr>\n",
       "  </tbody>\n",
       "</table>\n",
       "<p>14866 rows × 7 columns</p>\n",
       "</div>"
      ],
      "text/plain": [
       "                                                   title currency  \\\n",
       "0      Disponible apartamento Juan dolió un reservaci...      DOP   \n",
       "1      Hermosos Apartamentos en \"Los Jardines de Madr...      DOP   \n",
       "2      Vendo apto amplio de 260 Metros con areas soci...      USD   \n",
       "3                 Excelente solar a pasos de Guavaberry       DOP   \n",
       "4            Moderno Apartamento de alquiler en Piantini      USD   \n",
       "...                                                  ...      ...   \n",
       "14861             Apartamento segundo piso mirador norte      USD   \n",
       "14862  Solar 1,760 mts Canabacoa santiago de los caba...      DOP   \n",
       "14863  Impresionantes Apartamentos de un Lujo Acequib...      USD   \n",
       "14864                  Apartamento amueblado Bella vista      USD   \n",
       "14865  Venta de apartamento en la avenida independenc...      USD   \n",
       "\n",
       "                                              properties  \\\n",
       "0      {\"property_type\": \"Sin Amueblar\", \"rooms_quant...   \n",
       "1      {\"property_type\": \"Sin Amueblar\", \"rooms_quant...   \n",
       "2      {\"property_type\": \"Sin Amueblar\", \"rooms_quant...   \n",
       "3      {\"terrain_usage_type\": \"Comercial\", \"terrain_s...   \n",
       "4      {\"property_type\": \"Con linea blanca\", \"rooms_q...   \n",
       "...                                                  ...   \n",
       "14861  {\"property_type\": \"Sin Amueblar\", \"rooms_quant...   \n",
       "14862  {\"terrain_usage_type\": \"Otros\", \"terrain_squar...   \n",
       "14863  {\"property_type\": \"Sin Amueblar\", \"rooms_quant...   \n",
       "14864  {\"property_type\": \"Amueblado\", \"rooms_quantity...   \n",
       "14865  {\"property_type\": \"Sin Amueblar\", \"rooms_quant...   \n",
       "\n",
       "                    neighborhood                     title-2  \\\n",
       "0      Residecial brisa marina\\n                  Boca Chica   \n",
       "1              Madre Vieja Norte               San Cristóbal   \n",
       "2                      El Vergel           Distrito Nacional   \n",
       "3                           Otro                  Guayacanes   \n",
       "4                       Piantini           Distrito Nacional   \n",
       "...                          ...                         ...   \n",
       "14861              Mirador norte           Distrito Nacional   \n",
       "14862                        NaN  Santiago de los Caballeros   \n",
       "14863                        NaN           Bávaro/Punta Cana   \n",
       "14864                Bella vista           Distrito Nacional   \n",
       "14865                        NaN           Distrito Nacional   \n",
       "\n",
       "                    title-3    price_dop  \n",
       "0             Santo Domingo      1000.00  \n",
       "1             San Cristóbal   3950000.00  \n",
       "2             Santo Domingo  18774807.00  \n",
       "3      San Pedro de Macorís   2400000.00  \n",
       "4             Santo Domingo    103600.00  \n",
       "...                     ...          ...  \n",
       "14861         Santo Domingo   8967072.00  \n",
       "14862              Santiago  10560000.00  \n",
       "14863         La Altagracia  12543748.40  \n",
       "14864         Santo Domingo   8967072.00  \n",
       "14865         Santo Domingo   3995951.46  \n",
       "\n",
       "[14866 rows x 7 columns]"
      ]
     },
     "execution_count": 115,
     "metadata": {},
     "output_type": "execute_result"
    }
   ],
   "source": [
    "# Leemos los datos\n",
    "df = pd.read_csv('BienesRaices.csv', encoding = 'utf-8')\n",
    "df"
   ]
  },
  {
   "cell_type": "markdown",
   "id": "4d155667",
   "metadata": {},
   "source": [
    "### Columna a predecir: price_dop "
   ]
  },
  {
   "cell_type": "markdown",
   "id": "401ab6a6",
   "metadata": {},
   "source": [
    "# Modificar de aquí en adelante:"
   ]
  },
  {
   "cell_type": "markdown",
   "id": "d3c23ed7",
   "metadata": {},
   "source": [
    "### Preprocesado"
   ]
  },
  {
   "cell_type": "code",
   "execution_count": 118,
   "id": "609cdff3",
   "metadata": {},
   "outputs": [],
   "source": [
    "# Las columnas price y price_usd son redundantes, nos quedamos con price_dop\n",
    "X = df.copy().drop(['price_dop'], axis=1)\n",
    "Y = df.copy()['price_dop']"
   ]
  },
  {
   "cell_type": "markdown",
   "id": "12a7aa65",
   "metadata": {},
   "source": [
    "### Exploración"
   ]
  },
  {
   "cell_type": "code",
   "execution_count": 112,
   "id": "81f5ea34",
   "metadata": {
    "scrolled": true
   },
   "outputs": [
    {
     "data": {
      "text/plain": [
       "<seaborn.axisgrid.FacetGrid at 0x2000c0c3430>"
      ]
     },
     "execution_count": 112,
     "metadata": {},
     "output_type": "execute_result"
    },
    {
     "data": {
      "image/png": "[encoded data removed]",
      "text/plain": [
       "<Figure size 360x360 with 1 Axes>"
      ]
     },
     "metadata": {
      "needs_background": "light"
     },
     "output_type": "display_data"
    }
   ],
   "source": [
    "sns.displot(Y)"
   ]
  },
  {
   "cell_type": "markdown",
   "id": "87fd59c0",
   "metadata": {},
   "source": [
    "### Ejemplo de un modelo sencillo"
   ]
  },
  {
   "cell_type": "code",
   "execution_count": 120,
   "id": "6341f059",
   "metadata": {},
   "outputs": [
    {
     "data": {
      "text/plain": [
       "DecisionTreeRegressor(random_state=42)"
      ]
     },
     "execution_count": 120,
     "metadata": {},
     "output_type": "execute_result"
    }
   ],
   "source": [
    "# Hagamos un modelo de árbol sencillo con la provincia como único predictor\n",
    "from sklearn.tree import DecisionTreeRegressor\n",
    "model = DecisionTreeRegressor(random_state=42)\n",
    "X = X.filter(['title-3'], axis=1)\n",
    "X = pd.get_dummies(X, prefix_sep='_', sparse=True)\n",
    "model.fit(X,Y)"
   ]
  },
  {
   "cell_type": "code",
   "execution_count": 121,
   "id": "f6866dfb",
   "metadata": {},
   "outputs": [
    {
     "data": {
      "text/plain": [
       "5800388.515774037"
      ]
     },
     "execution_count": 121,
     "metadata": {},
     "output_type": "execute_result"
    }
   ],
   "source": [
    "evaluate(model, X, Y)"
   ]
  },
  {
   "cell_type": "code",
   "execution_count": null,
   "id": "653fab1f",
   "metadata": {},
   "outputs": [],
   "source": [
    "# El modelo se equivoca por 5 millones 800 mil pesos en promedio\n",
    "# A construir un modelo mejor!"
   ]
  }
 ],
 "metadata": {
  "kernelspec": {
   "display_name": "Python 3",
   "language": "python",
   "name": "python3"
  },
  "language_info": {
   "codemirror_mode": {
    "name": "ipython",
    "version": 3
   },
   "file_extension": ".py",
   "mimetype": "text/x-python",
   "name": "python",
   "nbconvert_exporter": "python",
   "pygments_lexer": "ipython3",
   "version": "3.8.8"
  }
 },
 "nbformat": 4,
 "nbformat_minor": 5
}
